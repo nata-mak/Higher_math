{
 "cells": [
  {
   "cell_type": "code",
   "execution_count": 64,
   "id": "d618ff82",
   "metadata": {},
   "outputs": [],
   "source": [
    "import numpy as np\n",
    "import matplotlib.pyplot as plt\n",
    "import warnings\n",
    "warnings.filterwarnings('ignore')"
   ]
  },
  {
   "cell_type": "markdown",
   "id": "456cea4a",
   "metadata": {},
   "source": [
    "### Задание 5.1\n",
    "Вычислите: (5E)-1 (обратную матрицу) где Е – единичная матрица размера 5х5."
   ]
  },
  {
   "cell_type": "code",
   "execution_count": 2,
   "id": "8df977cb",
   "metadata": {},
   "outputs": [
    {
     "data": {
      "text/plain": [
       "array([[1., 0., 0., 0., 0.],\n",
       "       [0., 1., 0., 0., 0.],\n",
       "       [0., 0., 1., 0., 0.],\n",
       "       [0., 0., 0., 1., 0.],\n",
       "       [0., 0., 0., 0., 1.]])"
      ]
     },
     "execution_count": 2,
     "metadata": {},
     "output_type": "execute_result"
    }
   ],
   "source": [
    "e = np.identity(5)\n",
    "e"
   ]
  },
  {
   "cell_type": "markdown",
   "id": "9f148463",
   "metadata": {},
   "source": [
    "Обратная матрица при умножении на исходную дает в результате единичную матрицу. То есть матрица, обратная единичной, и есть исходная единичная матрица."
   ]
  },
  {
   "cell_type": "code",
   "execution_count": 3,
   "id": "3088c23b",
   "metadata": {},
   "outputs": [
    {
     "data": {
      "text/plain": [
       "array([[ 1.,  0.,  0.,  0.,  0.],\n",
       "       [ 0.,  1.,  0.,  0.,  0.],\n",
       "       [ 0.,  0.,  1.,  0.,  0.],\n",
       "       [-0., -0., -0.,  1., -0.],\n",
       "       [ 0.,  0.,  0.,  0.,  1.]])"
      ]
     },
     "execution_count": 3,
     "metadata": {},
     "output_type": "execute_result"
    }
   ],
   "source": [
    "p = np.linalg.inv(e)\n",
    "p"
   ]
  },
  {
   "cell_type": "markdown",
   "id": "995560b1",
   "metadata": {},
   "source": [
    "### Задание 5.2\n",
    "Вычислите определитель матрицы"
   ]
  },
  {
   "cell_type": "code",
   "execution_count": 4,
   "id": "3c901e4e",
   "metadata": {},
   "outputs": [
    {
     "data": {
      "text/plain": [
       "array([[1, 2, 3],\n",
       "       [4, 0, 6],\n",
       "       [7, 8, 9]])"
      ]
     },
     "execution_count": 4,
     "metadata": {},
     "output_type": "execute_result"
    }
   ],
   "source": [
    "a = np.array([[1, 2, 3], [4, 0, 6], [7, 8, 9]])\n",
    "a"
   ]
  },
  {
   "cell_type": "code",
   "execution_count": 5,
   "id": "1655f5e3",
   "metadata": {},
   "outputs": [
    {
     "data": {
      "text/plain": [
       "59.999999999999986"
      ]
     },
     "execution_count": 5,
     "metadata": {},
     "output_type": "execute_result"
    }
   ],
   "source": [
    "np.linalg.det(a)"
   ]
  },
  {
   "cell_type": "markdown",
   "id": "52b8061a",
   "metadata": {},
   "source": [
    "### Задание 5.3\n",
    "Вычислите матрицу, обратную данной"
   ]
  },
  {
   "cell_type": "code",
   "execution_count": 6,
   "id": "7fde5824",
   "metadata": {},
   "outputs": [
    {
     "data": {
      "text/plain": [
       "array([[-0.8       ,  0.1       ,  0.2       ],\n",
       "       [ 0.1       , -0.2       ,  0.1       ],\n",
       "       [ 0.53333333,  0.1       , -0.13333333]])"
      ]
     },
     "execution_count": 6,
     "metadata": {},
     "output_type": "execute_result"
    }
   ],
   "source": [
    "np.linalg.inv(a)"
   ]
  },
  {
   "cell_type": "markdown",
   "id": "ea214647",
   "metadata": {},
   "source": [
    "### Задание 5.4\n",
    "Вычислите скалярное произведение двух векторов:  \n",
    "(1, 5)  и  (2, 8)"
   ]
  },
  {
   "cell_type": "markdown",
   "id": "c129140d",
   "metadata": {},
   "source": [
    "a * b = 1 * 2 + 5 * 8 = 42"
   ]
  },
  {
   "cell_type": "code",
   "execution_count": 7,
   "id": "e7e0ccce",
   "metadata": {},
   "outputs": [
    {
     "data": {
      "text/plain": [
       "42.0"
      ]
     },
     "execution_count": 7,
     "metadata": {},
     "output_type": "execute_result"
    }
   ],
   "source": [
    "a = np.array([1, 5], float)\n",
    "b = np.array([2, 8], float)\n",
    "np.inner(a, b)"
   ]
  },
  {
   "cell_type": "markdown",
   "id": "6377fbcc",
   "metadata": {},
   "source": [
    "### Задание 5.5\n",
    "(1, 5, 0), (2, 8, 7) и (7, 1.5, 3) Вычислите смешанное произведение трех векторов:"
   ]
  },
  {
   "cell_type": "code",
   "execution_count": 8,
   "id": "047823c3",
   "metadata": {},
   "outputs": [],
   "source": [
    "a = np.array([1, 5, 0], float)\n",
    "b = np.array([2, 8, 7], float)\n",
    "c = np.array([7, 1.5, 3], float)"
   ]
  },
  {
   "cell_type": "code",
   "execution_count": 12,
   "id": "b1218b49",
   "metadata": {},
   "outputs": [
    {
     "data": {
      "text/plain": [
       "228.5"
      ]
     },
     "execution_count": 12,
     "metadata": {},
     "output_type": "execute_result"
    }
   ],
   "source": [
    "v = np.cross(a, b)\n",
    "\n",
    "result = np.inner(v, c)\n",
    "result"
   ]
  },
  {
   "cell_type": "markdown",
   "id": "69b1bc26",
   "metadata": {},
   "source": [
    "### Задание 6.1\n",
    "Решите линейную систему:"
   ]
  },
  {
   "cell_type": "code",
   "execution_count": 13,
   "id": "f24b08a4",
   "metadata": {},
   "outputs": [
    {
     "data": {
      "text/plain": [
       "(array([[1, 2, 3],\n",
       "        [4, 0, 6],\n",
       "        [7, 8, 9]]),\n",
       " array([12,  2,  1]))"
      ]
     },
     "execution_count": 13,
     "metadata": {},
     "output_type": "execute_result"
    }
   ],
   "source": [
    "A = np.array([[1, 2, 3], [4, 0, 6], [7, 8, 9]])\n",
    "B = np.array([12, 2, 1])\n",
    "A, B"
   ]
  },
  {
   "cell_type": "code",
   "execution_count": 14,
   "id": "d270cbbf",
   "metadata": {},
   "outputs": [
    {
     "data": {
      "text/plain": [
       "array([-9.2       ,  0.9       ,  6.46666667])"
      ]
     },
     "execution_count": 14,
     "metadata": {},
     "output_type": "execute_result"
    }
   ],
   "source": [
    "np.linalg.solve(A, B)"
   ]
  },
  {
   "cell_type": "markdown",
   "id": "abaca214",
   "metadata": {},
   "source": [
    "### Задание 6.2\n",
    "\n",
    "2. Найдите псевдорешение:\n",
    "- x + 2y – z = 1\n",
    "- 3x – 4y = 7\n",
    "- 8x – 5y + 2z = 12\n",
    "- 2x – 5z = 7\n",
    "- 11x +4y – 7z = 15"
   ]
  },
  {
   "cell_type": "markdown",
   "id": "e864fe49",
   "metadata": {},
   "source": [
    "Приведем СЛАУ к матричному виду:"
   ]
  },
  {
   "cell_type": "code",
   "execution_count": 15,
   "id": "4ed89cad",
   "metadata": {},
   "outputs": [
    {
     "data": {
      "text/plain": [
       "(array([[ 1,  2, -1],\n",
       "        [ 3, -4,  0],\n",
       "        [ 8, -5,  2],\n",
       "        [ 2,  0, -5],\n",
       "        [11,  4, -7]]),\n",
       " array([ 1,  7, 12,  7, 15]))"
      ]
     },
     "execution_count": 15,
     "metadata": {},
     "output_type": "execute_result"
    }
   ],
   "source": [
    "A = np.array([[1, 2, -1], [3, -4, 0], [8, -5, 2], [2, 0, -5], [11, 4, -7]])\n",
    "B = np.array([1, 7, 12, 7, 15])\n",
    "A, B"
   ]
  },
  {
   "cell_type": "code",
   "execution_count": 18,
   "id": "b428e5bf",
   "metadata": {},
   "outputs": [
    {
     "data": {
      "text/plain": [
       "(array([ 1.13919353, -0.90498444, -0.9009803 ]),\n",
       " array([0.71523211]),\n",
       " 3,\n",
       " array([15.2817306 ,  9.59852942,  3.65197794]))"
      ]
     },
     "execution_count": 18,
     "metadata": {},
     "output_type": "execute_result"
    }
   ],
   "source": [
    "np.linalg.lstsq(A, B)"
   ]
  },
  {
   "cell_type": "markdown",
   "id": "b412c35d",
   "metadata": {},
   "source": [
    "Проверка:"
   ]
  },
  {
   "cell_type": "code",
   "execution_count": 22,
   "id": "ce32a119",
   "metadata": {},
   "outputs": [
    {
     "data": {
      "text/plain": [
       "array([-0.76979505,  0.03751835, -0.16349016, -0.21671144,  0.21805317])"
      ]
     },
     "execution_count": 22,
     "metadata": {},
     "output_type": "execute_result"
    }
   ],
   "source": [
    "np.dot(A, [1.13919353, -0.90498444, -0.9009803]) - B  # значения невязки "
   ]
  },
  {
   "cell_type": "markdown",
   "id": "d4272a20",
   "metadata": {},
   "source": [
    "### Задание 6.3\n",
    "Сколько решений имеет линейная система?\n",
    "Если ноль – то измените вектор правой части так, чтобы система стала совместной, и решите ее. "
   ]
  },
  {
   "cell_type": "code",
   "execution_count": 43,
   "id": "7ac295bb",
   "metadata": {},
   "outputs": [
    {
     "data": {
      "text/plain": [
       "(array([[1, 2, 3],\n",
       "        [4, 5, 6],\n",
       "        [7, 8, 9]]),\n",
       " array([[12,  2,  1]]))"
      ]
     },
     "execution_count": 43,
     "metadata": {},
     "output_type": "execute_result"
    }
   ],
   "source": [
    "A = np.array([[1, 2, 3], [4, 5, 6], [7, 8, 9]])\n",
    "B = np.array([[12, 2, 1]])\n",
    "A, B"
   ]
  },
  {
   "cell_type": "code",
   "execution_count": 44,
   "id": "7c44981c",
   "metadata": {},
   "outputs": [
    {
     "name": "stdout",
     "output_type": "stream",
     "text": [
      "[[ 1  2  3 12]\n",
      " [ 4  5  6  2]\n",
      " [ 7  8  9  1]]\n"
     ]
    },
    {
     "data": {
      "text/plain": [
       "(2, 3)"
      ]
     },
     "execution_count": 44,
     "metadata": {},
     "output_type": "execute_result"
    }
   ],
   "source": [
    "C = np.concatenate((A, B.T), axis = 1)\n",
    "print(C)\n",
    "np.linalg.matrix_rank(A, 0.0001), np.linalg.matrix_rank(C, 0.0001)"
   ]
  },
  {
   "cell_type": "markdown",
   "id": "aa377486",
   "metadata": {},
   "source": [
    "Так как ранг исходной матрицы меньше ранга расширенной матрицы, то СЛАУ не имеет решений. Чтобы система стала совместной, надо изменить вектор правой части:"
   ]
  },
  {
   "cell_type": "code",
   "execution_count": 45,
   "id": "a4a3d9d9",
   "metadata": {},
   "outputs": [],
   "source": [
    "B1 = np.array([3, 2, 1])"
   ]
  },
  {
   "cell_type": "code",
   "execution_count": 46,
   "id": "20f1aa09",
   "metadata": {},
   "outputs": [
    {
     "data": {
      "text/plain": [
       "array([ 0.33333333, -4.66666667,  4.        ])"
      ]
     },
     "execution_count": 46,
     "metadata": {},
     "output_type": "execute_result"
    }
   ],
   "source": [
    "np.linalg.solve(A, B1)"
   ]
  },
  {
   "cell_type": "markdown",
   "id": "260dc50d",
   "metadata": {},
   "source": [
    "### Задание 6.4\n",
    "Вычислите LU-разложение матрицы:"
   ]
  },
  {
   "cell_type": "code",
   "execution_count": 47,
   "id": "cf34c164",
   "metadata": {},
   "outputs": [],
   "source": [
    "#import scipy\n",
    "import scipy.linalg"
   ]
  },
  {
   "cell_type": "code",
   "execution_count": 54,
   "id": "de17757e",
   "metadata": {},
   "outputs": [
    {
     "name": "stdout",
     "output_type": "stream",
     "text": [
      "Det A =  432.00000000000017\n",
      "P = [[0. 1. 0.]\n",
      " [0. 0. 1.]\n",
      " [1. 0. 0.]]\n",
      "L = [[ 1.    0.    0.  ]\n",
      " [ 0.25  1.    0.  ]\n",
      " [ 0.5  -0.4   1.  ]]\n",
      "U = [[  4.    28.    73.  ]\n",
      " [  0.    -5.   -15.25]\n",
      " [  0.     0.   -21.6 ]]\n"
     ]
    }
   ],
   "source": [
    "A = np.array([[1, 2, 3], [2, 16, 21], [4, 28, 73]])\n",
    "P, L, U = scipy.linalg.lu(A)\n",
    "\n",
    "print(\"Det A = \", np.linalg.det(A))\n",
    "print(\"P =\", P)\n",
    "print(\"L =\", L)\n",
    "print(\"U =\", U)"
   ]
  },
  {
   "cell_type": "code",
   "execution_count": 56,
   "id": "0b7ca49b",
   "metadata": {},
   "outputs": [
    {
     "data": {
      "text/plain": [
       "array([11.68055556, -0.29861111,  0.63888889])"
      ]
     },
     "execution_count": 56,
     "metadata": {},
     "output_type": "execute_result"
    }
   ],
   "source": [
    "B = np.array([13, 32, 85])\n",
    "np.linalg.solve(A, B)"
   ]
  },
  {
   "cell_type": "markdown",
   "id": "748b1e5f",
   "metadata": {},
   "source": [
    "### Задание 6.5\n",
    "\n",
    "Найдите нормальное псевдорешение недоопределенной системы:\n",
    "- x + 2y – z = 1  \n",
    "- 8x – 5y + 2z = 12\n",
    "- Для этого определите функцию Q(x,y,z), равную норме решения, и найдите ее минимум. \n"
   ]
  },
  {
   "cell_type": "code",
   "execution_count": 83,
   "id": "c9eaf9bf",
   "metadata": {},
   "outputs": [],
   "source": [
    "A = np.array([[1, 2, -1], [8, -5, 2]])\n",
    "B = np.array([1, 12])"
   ]
  },
  {
   "cell_type": "code",
   "execution_count": 65,
   "id": "ef611a9e",
   "metadata": {},
   "outputs": [],
   "source": [
    "from mpl_toolkits import mplot3d"
   ]
  },
  {
   "cell_type": "code",
   "execution_count": 134,
   "id": "362b07f4",
   "metadata": {},
   "outputs": [
    {
     "data": {
      "image/png": "[encoded data removed]",
      "text/plain": [
       "<Figure size 432x288 with 1 Axes>"
      ]
     },
     "metadata": {
      "needs_background": "light"
     },
     "output_type": "display_data"
    }
   ],
   "source": [
    "def Q(x, y, z):\n",
    "    return(x**2 + y**2 + z**2)\n",
    "\n",
    "x = np.linspace(-1, 5, 201)\n",
    "y = 10*x - 14\n",
    "z = x + 2**y - 1\n",
    "\n",
    "plt.plot(x, Q(x, y, z))\n",
    "\n",
    "# fig = plt.figure()\n",
    "# ax = plt.axes(projection='3d')\n",
    "# ax.plot3D(x, Q(x, y, z))\n",
    "\n",
    "plt.xlabel('x')\n",
    "plt.ylabel('y')\n",
    "\n",
    "plt.show()"
   ]
  },
  {
   "cell_type": "code",
   "execution_count": 84,
   "id": "11faad12",
   "metadata": {},
   "outputs": [
    {
     "data": {
      "text/plain": [
       "(array([ 1.38191882, -0.18081181,  0.0202952 ]),\n",
       " array([], dtype=float64),\n",
       " 2,\n",
       " array([9.65316119, 2.41173777]))"
      ]
     },
     "execution_count": 84,
     "metadata": {},
     "output_type": "execute_result"
    }
   ],
   "source": [
    "np.linalg.lstsq(A, B)"
   ]
  },
  {
   "cell_type": "markdown",
   "id": "770956d5",
   "metadata": {},
   "source": [
    "### Задание 6.6\n",
    "Найдите одно из псевдорешений вырожденной системы:"
   ]
  },
  {
   "cell_type": "code",
   "execution_count": 115,
   "id": "5bbf43ed",
   "metadata": {},
   "outputs": [],
   "source": [
    "A = np.array([[1, 2 ,3], [4, 5, 6], [7, 8, 9]])\n",
    "B = np.array([2, 5, 11])"
   ]
  },
  {
   "cell_type": "code",
   "execution_count": 117,
   "id": "fee8e24d",
   "metadata": {},
   "outputs": [
    {
     "name": "stdout",
     "output_type": "stream",
     "text": [
      "[[1 2 3]\n",
      " [4 5 6]\n",
      " [7 8 9]]\n",
      "[[-0.12309149  0.90453403  0.40824829]\n",
      " [-0.49236596  0.30151134 -0.81649658]\n",
      " [-0.86164044 -0.30151134  0.40824829]]\n",
      "[[-8.12403840e+00 -9.60113630e+00 -1.10782342e+01]\n",
      " [ 0.00000000e+00  9.04534034e-01  1.80906807e+00]\n",
      " [ 0.00000000e+00  0.00000000e+00 -1.11164740e-15]]\n"
     ]
    }
   ],
   "source": [
    "Q, R = np.linalg.qr(A)\n",
    "print(A)\n",
    "print(Q)\n",
    "print(R)"
   ]
  },
  {
   "cell_type": "code",
   "execution_count": 121,
   "id": "d2148861",
   "metadata": {},
   "outputs": [
    {
     "data": {
      "text/plain": [
       "array([-1.21860576e+01,  8.54871729e-15])"
      ]
     },
     "execution_count": 121,
     "metadata": {},
     "output_type": "execute_result"
    }
   ],
   "source": [
    "B1 = np.dot(np.transpose(Q), B)[:2]\n",
    "B1"
   ]
  },
  {
   "cell_type": "code",
   "execution_count": 122,
   "id": "43e1125e",
   "metadata": {},
   "outputs": [
    {
     "data": {
      "text/plain": [
       "array([[-8.1240384 , -9.6011363 ],\n",
       "       [ 0.        ,  0.90453403]])"
      ]
     },
     "execution_count": 122,
     "metadata": {},
     "output_type": "execute_result"
    }
   ],
   "source": [
    "R1 = R[:2, :2]\n",
    "R1"
   ]
  },
  {
   "cell_type": "code",
   "execution_count": 124,
   "id": "650d86ea",
   "metadata": {},
   "outputs": [
    {
     "data": {
      "text/plain": [
       "array([1.50000000e+00, 9.45096256e-15])"
      ]
     },
     "execution_count": 124,
     "metadata": {},
     "output_type": "execute_result"
    }
   ],
   "source": [
    "X1 = np.linalg.solve(R1, B1)\n",
    "X1"
   ]
  },
  {
   "cell_type": "code",
   "execution_count": 125,
   "id": "56eb8a1b",
   "metadata": {},
   "outputs": [
    {
     "data": {
      "text/plain": [
       "array([1.50000000e+00, 9.45096256e-15, 0.00000000e+00])"
      ]
     },
     "execution_count": 125,
     "metadata": {},
     "output_type": "execute_result"
    }
   ],
   "source": [
    "X = np.append(X1, 0)\n",
    "X"
   ]
  },
  {
   "cell_type": "code",
   "execution_count": 126,
   "id": "aac090ff",
   "metadata": {},
   "outputs": [
    {
     "data": {
      "text/plain": [
       "1.4999999999999893"
      ]
     },
     "execution_count": 126,
     "metadata": {},
     "output_type": "execute_result"
    }
   ],
   "source": [
    "np.linalg.norm(X)"
   ]
  }
 ],
 "metadata": {
  "kernelspec": {
   "display_name": "Python 3",
   "language": "python",
   "name": "python3"
  },
  "language_info": {
   "codemirror_mode": {
    "name": "ipython",
    "version": 3
   },
   "file_extension": ".py",
   "mimetype": "text/x-python",
   "name": "python",
   "nbconvert_exporter": "python",
   "pygments_lexer": "ipython3",
   "version": "3.8.8"
  }
 },
 "nbformat": 4,
 "nbformat_minor": 5
}
