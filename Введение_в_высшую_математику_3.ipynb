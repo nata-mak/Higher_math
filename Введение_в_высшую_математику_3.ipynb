{
 "cells": [
  {
   "cell_type": "markdown",
   "id": "0998664f",
   "metadata": {},
   "source": [
    "### Задание 1\n",
    "\n",
    "Напишите код, моделирующий выпадение поля в рулетке (с учетом поля zero)."
   ]
  },
  {
   "cell_type": "code",
   "execution_count": 1,
   "id": "fb6831e9",
   "metadata": {},
   "outputs": [],
   "source": [
    "import numpy as np"
   ]
  },
  {
   "cell_type": "code",
   "execution_count": 213,
   "id": "122fc5bb",
   "metadata": {},
   "outputs": [
    {
     "name": "stdout",
     "output_type": "stream",
     "text": [
      "\n",
      "Black\n",
      "\n",
      "Red\n",
      "\n",
      "Black\n",
      "\n",
      "Red\n",
      "\n",
      "Red\n"
     ]
    }
   ],
   "source": [
    "for i in range(0,5):\n",
    "    x = np.random.randint(0,37)\n",
    "    a = input()\n",
    "    if x == 0:\n",
    "        print('Zero')\n",
    "    elif x <= 18 and x!=0:\n",
    "        print ('Red')\n",
    "    else:\n",
    "        print('Black')"
   ]
  },
  {
   "cell_type": "markdown",
   "id": "39d678d0",
   "metadata": {},
   "source": [
    "### Задание 2\n",
    "- Напишите код, проверяющий любую из теорем сложения или умножения вероятности на примере рулетки или подбрасывания монетки."
   ]
  },
  {
   "cell_type": "code",
   "execution_count": 61,
   "id": "f3ad904f",
   "metadata": {},
   "outputs": [
    {
     "name": "stdout",
     "output_type": "stream",
     "text": [
      "485 482 33\n"
     ]
    }
   ],
   "source": [
    "r,b,z = 0, 0, 0\n",
    "n = 1000\n",
    "for i in range(0, n):\n",
    "    x = np.random.randint(0,37)\n",
    "    #a = input()\n",
    "    if x == 0:\n",
    "        #print('Zero')\n",
    "        z = z+1\n",
    "    elif x <= 18 and x!=0:\n",
    "        #print ('Red')\n",
    "        r = r+1\n",
    "    else:\n",
    "        #print('Black')\n",
    "        b = b+1\n",
    "print(r, b, z)"
   ]
  },
  {
   "cell_type": "code",
   "execution_count": 62,
   "id": "4fb0c31f",
   "metadata": {},
   "outputs": [
    {
     "name": "stdout",
     "output_type": "stream",
     "text": [
      "0.033 0.482 0.485\n"
     ]
    }
   ],
   "source": [
    "#Вероятности выпадения zero, black и red:\n",
    "p_z = z/n\n",
    "p_b = b/n\n",
    "p_r = r/n\n",
    "\n",
    "print(p_z, p_b, p_r)"
   ]
  },
  {
   "cell_type": "code",
   "execution_count": 63,
   "id": "a5683afd",
   "metadata": {},
   "outputs": [
    {
     "data": {
      "text/plain": [
       "1.0"
      ]
     },
     "execution_count": 63,
     "metadata": {},
     "output_type": "execute_result"
    }
   ],
   "source": [
    "p_z+p_b+p_r #сумма вероятностей наступления события равна 1"
   ]
  },
  {
   "cell_type": "markdown",
   "id": "05ccfa4a",
   "metadata": {},
   "source": [
    "- Сгенерируйте десять выборок случайных чисел х0, …, х9 и постройте гистограмму распределения случайной суммы  +х0+ …+ х 9. "
   ]
  },
  {
   "cell_type": "code",
   "execution_count": 78,
   "id": "a0cd8b8f",
   "metadata": {},
   "outputs": [],
   "source": [
    "import matplotlib.pyplot as plt\n",
    "%matplotlib inline\n",
    "import warnings\n",
    "warnings.filterwarnings('ignore')"
   ]
  },
  {
   "cell_type": "code",
   "execution_count": 90,
   "id": "8191de10",
   "metadata": {},
   "outputs": [],
   "source": [
    "summa = []\n",
    "n = 10"
   ]
  },
  {
   "cell_type": "code",
   "execution_count": 91,
   "id": "f1f19bed",
   "metadata": {},
   "outputs": [
    {
     "name": "stdout",
     "output_type": "stream",
     "text": [
      "[5.301793124105048, 4.654652247261999, 5.5502771640814865, 3.759294935237669, 5.590540072012163, 4.708809211759894, 3.039476974030512, 4.5596361583641585, 5.063719093346428, 4.963259464839068]\n"
     ]
    }
   ],
   "source": [
    "for i in range(0,n):\n",
    "    x = np.random.rand(10)\n",
    "    summa.append(sum(x))\n",
    "print(summa)"
   ]
  },
  {
   "cell_type": "code",
   "execution_count": 93,
   "id": "a4e0c8a2",
   "metadata": {},
   "outputs": [
    {
     "data": {
      "image/png": "[encoded data removed]",
      "text/plain": [
       "<Figure size 432x288 with 1 Axes>"
      ]
     },
     "metadata": {
      "needs_background": "light"
     },
     "output_type": "display_data"
    }
   ],
   "source": [
    "num_bins = 3\n",
    "n, bins, patches = plt.hist(summa, num_bins)\n",
    "plt.xlabel('Sum_x')\n",
    "plt.ylabel('Probability')\n",
    "plt.title('Histogram')\n",
    "plt.show()\n"
   ]
  },
  {
   "cell_type": "markdown",
   "id": "1030c2fa",
   "metadata": {},
   "source": [
    "### Задание 3\n",
    "\n",
    "- Дополните код Монте-Карло последовательности независимых испытаний расчетом соответствующих вероятностей (через биномиальное распределение) и сравните результаты."
   ]
  },
  {
   "cell_type": "code",
   "execution_count": 107,
   "id": "fa03713b",
   "metadata": {},
   "outputs": [],
   "source": [
    "import itertools"
   ]
  },
  {
   "cell_type": "code",
   "execution_count": 148,
   "id": "fe9203d2",
   "metadata": {},
   "outputs": [],
   "source": [
    "k, n = 0, 10000\n",
    "a = np.random.randint(0, 2, n)\n",
    "b = np.random.randint(0, 2, n)\n",
    "c = np.random.randint(0, 2, n)\n",
    "d = np.random.randint(0, 2, n)\n",
    "\n",
    "# print(a)\n",
    "# print(b)\n",
    "# print(c)\n",
    "# print(d)\n",
    "x = a + b + c + d"
   ]
  },
  {
   "cell_type": "code",
   "execution_count": 149,
   "id": "88ce7780",
   "metadata": {},
   "outputs": [
    {
     "name": "stdout",
     "output_type": "stream",
     "text": [
      "3719 10000 0.3719\n"
     ]
    }
   ],
   "source": [
    "for i in range(0, n):\n",
    "    if x[i] == 2:\n",
    "        k = k + 1\n",
    "print(k, n, k/n)"
   ]
  },
  {
   "cell_type": "code",
   "execution_count": 143,
   "id": "df38155f",
   "metadata": {},
   "outputs": [],
   "source": [
    "def Bernulli(n: int, k: int) -> int:\n",
    "    comb = np.math.factorial(n) // (np.math.factorial(k) * np.math.factorial(n - k))\n",
    "    prob = comb*(0.5**k)*(1-0.5)**(n-k)\n",
    "    return prob"
   ]
  },
  {
   "cell_type": "code",
   "execution_count": 156,
   "id": "c06c4846",
   "metadata": {},
   "outputs": [
    {
     "data": {
      "text/plain": [
       "0.375"
      ]
     },
     "execution_count": 156,
     "metadata": {},
     "output_type": "execute_result"
    }
   ],
   "source": [
    "Bernulli(4, 2) # вероятность выпадения 2 орлов"
   ]
  },
  {
   "cell_type": "markdown",
   "id": "a1f6bbe9",
   "metadata": {},
   "source": [
    "- Повторите расчеты биномиальных коэффициентов и вероятностей k успехов в последовательности из n независимых испытаний, взяв другие значения n и k."
   ]
  },
  {
   "cell_type": "code",
   "execution_count": 153,
   "id": "972e67ac",
   "metadata": {},
   "outputs": [
    {
     "name": "stdout",
     "output_type": "stream",
     "text": [
      "251 1000 0.251\n"
     ]
    }
   ],
   "source": [
    "k, n = 0, 1000\n",
    "a = np.random.randint(0, 2, n)\n",
    "b = np.random.randint(0, 2, n)\n",
    "c = np.random.randint(0, 2, n)\n",
    "d = np.random.randint(0, 2, n)\n",
    "\n",
    "x = a + b + c + d\n",
    "\n",
    "for i in range(0, n):\n",
    "    if x[i] == 3:\n",
    "        k = k + 1\n",
    "print(k, n, k/n)"
   ]
  },
  {
   "cell_type": "code",
   "execution_count": 164,
   "id": "ab15e2f0",
   "metadata": {},
   "outputs": [
    {
     "data": {
      "text/plain": [
       "0.25"
      ]
     },
     "execution_count": 164,
     "metadata": {},
     "output_type": "execute_result"
    }
   ],
   "source": [
    "Bernulli(4, 3) #вероятность выпадения трех орлов"
   ]
  },
  {
   "cell_type": "markdown",
   "id": "87e7d8d7",
   "metadata": {},
   "source": [
    "### Задание 4\n",
    "Из урока по комбинаторике повторите расчеты, сгенерировав возможные варианты перестановок для других значений n и k"
   ]
  },
  {
   "cell_type": "code",
   "execution_count": 193,
   "id": "a873fdfd",
   "metadata": {},
   "outputs": [
    {
     "name": "stdout",
     "output_type": "stream",
     "text": [
      "Возможное число перестановок: 120\n",
      "01234\n",
      "01243\n",
      "01324\n",
      "01342\n",
      "01423\n",
      "01432\n",
      "02134\n",
      "02143\n",
      "02314\n",
      "02341\n",
      "02413\n",
      "02431\n",
      "03124\n",
      "03142\n",
      "03214\n",
      "03241\n",
      "03412\n",
      "03421\n",
      "04123\n",
      "04132\n",
      "04213\n",
      "04231\n",
      "04312\n",
      "04321\n",
      "10234\n",
      "10243\n",
      "10324\n",
      "10342\n",
      "10423\n",
      "10432\n",
      "12034\n",
      "12043\n",
      "12304\n",
      "12340\n",
      "12403\n",
      "12430\n",
      "13024\n",
      "13042\n",
      "13204\n",
      "13240\n",
      "13402\n",
      "13420\n",
      "14023\n",
      "14032\n",
      "14203\n",
      "14230\n",
      "14302\n",
      "14320\n",
      "20134\n",
      "20143\n",
      "20314\n",
      "20341\n",
      "20413\n",
      "20431\n",
      "21034\n",
      "21043\n",
      "21304\n",
      "21340\n",
      "21403\n",
      "21430\n",
      "23014\n",
      "23041\n",
      "23104\n",
      "23140\n",
      "23401\n",
      "23410\n",
      "24013\n",
      "24031\n",
      "24103\n",
      "24130\n",
      "24301\n",
      "24310\n",
      "30124\n",
      "30142\n",
      "30214\n",
      "30241\n",
      "30412\n",
      "30421\n",
      "31024\n",
      "31042\n",
      "31204\n",
      "31240\n",
      "31402\n",
      "31420\n",
      "32014\n",
      "32041\n",
      "32104\n",
      "32140\n",
      "32401\n",
      "32410\n",
      "34012\n",
      "34021\n",
      "34102\n",
      "34120\n",
      "34201\n",
      "34210\n",
      "40123\n",
      "40132\n",
      "40213\n",
      "40231\n",
      "40312\n",
      "40321\n",
      "41023\n",
      "41032\n",
      "41203\n",
      "41230\n",
      "41302\n",
      "41320\n",
      "42013\n",
      "42031\n",
      "42103\n",
      "42130\n",
      "42301\n",
      "42310\n",
      "43012\n",
      "43021\n",
      "43102\n",
      "43120\n",
      "43201\n",
      "43210\n"
     ]
    }
   ],
   "source": [
    "s = '01234'\n",
    "n = len(s)\n",
    "k = n\n",
    "\n",
    "permutations = np.math.factorial(n)\n",
    "print(f'Возможное число перестановок: {permutations}')\n",
    "for p in itertools.permutations(s, k): # число перестановок (если n = k)\n",
    "    print(''.join(str(x) for x in p))"
   ]
  },
  {
   "cell_type": "code",
   "execution_count": 194,
   "id": "d2d2b628",
   "metadata": {},
   "outputs": [
    {
     "name": "stdout",
     "output_type": "stream",
     "text": [
      "Возможное число размещений: 20\n",
      "01\n",
      "02\n",
      "03\n",
      "04\n",
      "10\n",
      "12\n",
      "13\n",
      "14\n",
      "20\n",
      "21\n",
      "23\n",
      "24\n",
      "30\n",
      "31\n",
      "32\n",
      "34\n",
      "40\n",
      "41\n",
      "42\n",
      "43\n"
     ]
    }
   ],
   "source": [
    "k = 2\n",
    "\n",
    "permutations2 = np.math.factorial(n)// np.math.factorial(n - k)\n",
    "print(f'Возможное число размещений: {permutations2}')\n",
    "for p in itertools.permutations(s, k): # число размещений (если n != k)\n",
    "    print(''.join(str(x) for x in p))"
   ]
  },
  {
   "cell_type": "code",
   "execution_count": 195,
   "id": "14cfb421",
   "metadata": {},
   "outputs": [
    {
     "name": "stdout",
     "output_type": "stream",
     "text": [
      "Возможное число комбинаций: 10\n",
      "01\n",
      "02\n",
      "03\n",
      "04\n",
      "12\n",
      "13\n",
      "14\n",
      "23\n",
      "24\n",
      "34\n"
     ]
    }
   ],
   "source": [
    "combinations = np.math.factorial(n)//(np.math.factorial(k)*np.math.factorial(n - k))\n",
    "print(f'Возможное число комбинаций: {combinations}')\n",
    "for p in itertools.combinations(s, k):\n",
    "    print(''.join(p))"
   ]
  },
  {
   "cell_type": "markdown",
   "id": "ee216d64",
   "metadata": {},
   "source": [
    "### Задание 5\n",
    "\n",
    "Дополните код расчетом коэффициента корреляции x и y по формуле"
   ]
  },
  {
   "cell_type": "code",
   "execution_count": 216,
   "id": "3d5e58a8",
   "metadata": {},
   "outputs": [
    {
     "name": "stdout",
     "output_type": "stream",
     "text": [
      "0.7326298139487112 0.1333841851218753\n",
      "0.7326298139487111 0.13338418512187533\n"
     ]
    },
    {
     "data": {
      "image/png": "[encoded data removed]",
      "text/plain": [
       "<Figure size 432x288 with 1 Axes>"
      ]
     },
     "metadata": {
      "needs_background": "light"
     },
     "output_type": "display_data"
    }
   ],
   "source": [
    "n = 100\n",
    "r = 0.7\n",
    "x = np.random.rand(n)\n",
    "y = r*x + (1 - r)*np.random.rand(n)\n",
    "plt.plot(x, y, 'o')\n",
    "plt.xlabel('x')\n",
    "plt.ylabel('y')\n",
    "plt.grid(True)\n",
    "\n",
    "# расчет коэффициентов a и b вручную:\n",
    "a = (np.sum(x)*np.sum(y) - n*np.sum(x*y))/(np.sum(x)*np.sum(x) - n*np.sum(x*x))\n",
    "b = (np.sum(y) - a*np.sum(x))/n\n",
    "\n",
    "\n",
    "# расчет коэффициентов с помощью библиотек:\n",
    "A = np.vstack([x, np.ones(len(x))]).T\n",
    "a1, b1 = np.linalg.lstsq(A, y)[0]\n",
    "print(a, b)\n",
    "print(a1, b1)\n",
    "\n",
    "plt.plot([0, 1], [b, a + b])\n",
    "plt.show()"
   ]
  },
  {
   "cell_type": "code",
   "execution_count": 217,
   "id": "572cab7c",
   "metadata": {},
   "outputs": [
    {
     "data": {
      "text/plain": [
       "0.489332460022105"
      ]
     },
     "execution_count": 217,
     "metadata": {},
     "output_type": "execute_result"
    }
   ],
   "source": [
    "x_mean = sum(x)/len(x)# среднее значение x\n",
    "#x_mean = np.mean(x)\n",
    "x_mean"
   ]
  },
  {
   "cell_type": "code",
   "execution_count": 218,
   "id": "15e126c0",
   "metadata": {},
   "outputs": [
    {
     "data": {
      "text/plain": [
       "0.49188373426693516"
      ]
     },
     "execution_count": 218,
     "metadata": {},
     "output_type": "execute_result"
    }
   ],
   "source": [
    "y_mean = sum(y)/len(y)\n",
    "y_mean"
   ]
  },
  {
   "cell_type": "markdown",
   "id": "d7c32981",
   "metadata": {},
   "source": [
    "Расчет коэффициента корреляции вручную с помощью формулы:"
   ]
  },
  {
   "cell_type": "code",
   "execution_count": 219,
   "id": "bc0f1c7e",
   "metadata": {},
   "outputs": [
    {
     "data": {
      "text/plain": [
       "0.9264607824651527"
      ]
     },
     "execution_count": 219,
     "metadata": {},
     "output_type": "execute_result"
    }
   ],
   "source": [
    "R = sum((x - x_mean)*(y - y_mean))/ np.sqrt(sum((x - x_mean)**2) * sum((y - y_mean)**2))\n",
    "R"
   ]
  },
  {
   "cell_type": "markdown",
   "id": "f66077c8",
   "metadata": {},
   "source": [
    "Расчет коэффициента корреляции с помощью функции библиотеки numpy:"
   ]
  },
  {
   "cell_type": "code",
   "execution_count": 220,
   "id": "01c25f23",
   "metadata": {},
   "outputs": [
    {
     "data": {
      "text/plain": [
       "array([[1.        , 0.92646078],\n",
       "       [0.92646078, 1.        ]])"
      ]
     },
     "execution_count": 220,
     "metadata": {},
     "output_type": "execute_result"
    }
   ],
   "source": [
    "np.corrcoef(x,y)"
   ]
  },
  {
   "cell_type": "markdown",
   "id": "3b753577",
   "metadata": {},
   "source": [
    "Видно, что расчеты совпали."
   ]
  }
 ],
 "metadata": {
  "kernelspec": {
   "display_name": "Python 3",
   "language": "python",
   "name": "python3"
  },
  "language_info": {
   "codemirror_mode": {
    "name": "ipython",
    "version": 3
   },
   "file_extension": ".py",
   "mimetype": "text/x-python",
   "name": "python",
   "nbconvert_exporter": "python",
   "pygments_lexer": "ipython3",
   "version": "3.8.8"
  }
 },
 "nbformat": 4,
 "nbformat_minor": 5
}
